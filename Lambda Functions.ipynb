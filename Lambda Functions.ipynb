{
 "cells": [
  {
   "cell_type": "code",
   "execution_count": 22,
   "id": "3e0d796e-ba00-460b-97f0-d846eb609874",
   "metadata": {},
   "outputs": [],
   "source": [
    "def greet(name):\n",
    "    print(f\"Good Morning! {name}\")"
   ]
  },
  {
   "cell_type": "code",
   "execution_count": 26,
   "id": "aea59df3-4ad7-4abc-bdff-d7a1c8d22248",
   "metadata": {},
   "outputs": [
    {
     "name": "stdout",
     "output_type": "stream",
     "text": [
      "Good Morning! raju\n"
     ]
    }
   ],
   "source": [
    "greet(\"raju\")"
   ]
  },
  {
   "cell_type": "code",
   "execution_count": 5,
   "id": "60b9179b-79f9-4f04-b749-c3e052d932e8",
   "metadata": {},
   "outputs": [],
   "source": [
    "greet = lambda name : print(f\"Good morning {name}!\")"
   ]
  },
  {
   "cell_type": "code",
   "execution_count": 9,
   "id": "5bcc3232-123d-43c2-b9d3-5fbd29bd7e71",
   "metadata": {},
   "outputs": [
    {
     "name": "stdout",
     "output_type": "stream",
     "text": [
      "Good morning Badri!\n"
     ]
    }
   ],
   "source": [
    "greet(\"Badri\")"
   ]
  },
  {
   "cell_type": "code",
   "execution_count": 19,
   "id": "69568d81-4752-48c2-b155-d2611507a543",
   "metadata": {},
   "outputs": [
    {
     "data": {
      "text/plain": [
       "20.0"
      ]
     },
     "execution_count": 19,
     "metadata": {},
     "output_type": "execute_result"
    }
   ],
   "source": [
    "avg = lambda a,b,c : (a+b+c)/3\n",
    "avg(10,20,30)"
   ]
  },
  {
   "cell_type": "code",
   "execution_count": 23,
   "id": "4f9d5f8e-5d76-4d4c-988e-6b7972abb504",
   "metadata": {},
   "outputs": [
    {
     "data": {
      "text/plain": [
       "[2, 4, 6, 8, 10]"
      ]
     },
     "execution_count": 23,
     "metadata": {},
     "output_type": "execute_result"
    }
   ],
   "source": [
    "even = lambda L : [x for x in L if x%2 == 0]\n",
    "L=[1,2,3,4,5,6,7,8,9,10]\n",
    "even(L)"
   ]
  },
  {
   "cell_type": "code",
   "execution_count": 25,
   "id": "3e556ac5-fd95-4b0f-b268-094b8d2e6473",
   "metadata": {},
   "outputs": [
    {
     "data": {
      "text/plain": [
       "[1, 3, 5, 7, 9]"
      ]
     },
     "execution_count": 25,
     "metadata": {},
     "output_type": "execute_result"
    }
   ],
   "source": [
    "odd = lambda L : [x for x in L if x%2 != 0]\n",
    "L=[1,2,3,4,5,6,7,8,9,10]\n",
    "odd(L)"
   ]
  },
  {
   "cell_type": "code",
   "execution_count": null,
   "id": "0b5da759-4c32-4a7c-a45f-24f8fe18b325",
   "metadata": {},
   "outputs": [],
   "source": []
  }
 ],
 "metadata": {
  "kernelspec": {
   "display_name": "Python [conda env:base] *",
   "language": "python",
   "name": "conda-base-py"
  },
  "language_info": {
   "codemirror_mode": {
    "name": "ipython",
    "version": 3
   },
   "file_extension": ".py",
   "mimetype": "text/x-python",
   "name": "python",
   "nbconvert_exporter": "python",
   "pygments_lexer": "ipython3",
   "version": "3.12.7"
  }
 },
 "nbformat": 4,
 "nbformat_minor": 5
}
