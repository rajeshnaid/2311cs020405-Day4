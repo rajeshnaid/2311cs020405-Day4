{
 "cells": [
  {
   "cell_type": "code",
   "execution_count": 1,
   "id": "b9f512b7-18d0-41cc-a220-769dc2b670b9",
   "metadata": {},
   "outputs": [
    {
     "name": "stdin",
     "output_type": "stream",
     "text": [
      "Please enter a positive integer:  12\n"
     ]
    },
    {
     "name": "stdout",
     "output_type": "stream",
     "text": [
      "Numbers from 1 to 12 :\n",
      "1\n",
      "2\n",
      "3\n",
      "4\n",
      "5\n",
      "6\n",
      "7\n",
      "8\n",
      "9\n",
      "10\n",
      "11\n",
      "12\n",
      "The sum of all numbers from 1 to 12 is: 78\n"
     ]
    }
   ],
   "source": [
    "def get_positive_integer():\n",
    "    while True:\n",
    "        try:\n",
    "            n = int(input(\"Please enter a positive integer: \"))\n",
    "            if n > 0:\n",
    "                return n\n",
    "            else:\n",
    "                print(\"The number must be positive. Please try again.\")\n",
    "        except ValueError:\n",
    "            print(\"Invalid input. Please enter a valid positive integer.\")\n",
    "def main():\n",
    "    n = get_positive_integer()\n",
    "    print(\"Numbers from 1 to\", n, \":\")\n",
    "    for i in range(1, n + 1):\n",
    "        print(i)\n",
    "    sum_of_numbers = 0\n",
    "    current_number = 1\n",
    "    while current_number <= n:\n",
    "        sum_of_numbers += current_number\n",
    "        current_number += 1\n",
    "\n",
    "    print(\"The sum of all numbers from 1 to\", n, \"is:\", sum_of_numbers)\n",
    "if __name__ == \"__main__\":\n",
    "    main()"
   ]
  },
  {
   "cell_type": "code",
   "execution_count": null,
   "id": "4f2cff03-f137-45d2-b7a8-569c81053e98",
   "metadata": {},
   "outputs": [],
   "source": []
  }
 ],
 "metadata": {
  "kernelspec": {
   "display_name": "Python [conda env:base] *",
   "language": "python",
   "name": "conda-base-py"
  },
  "language_info": {
   "codemirror_mode": {
    "name": "ipython",
    "version": 3
   },
   "file_extension": ".py",
   "mimetype": "text/x-python",
   "name": "python",
   "nbconvert_exporter": "python",
   "pygments_lexer": "ipython3",
   "version": "3.12.7"
  }
 },
 "nbformat": 4,
 "nbformat_minor": 5
}
